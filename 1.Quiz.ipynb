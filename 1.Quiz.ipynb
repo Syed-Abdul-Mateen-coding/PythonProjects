{
 "cells": [
  {
   "cell_type": "code",
   "execution_count": 5,
   "id": "44848e8e-87f2-4ad1-9175-dba16d55a84d",
   "metadata": {},
   "outputs": [
    {
     "name": "stdin",
     "output_type": "stream",
     "text": [
      "Press '1' to start or '2' to exit game: 1\n"
     ]
    },
    {
     "name": "stdout",
     "output_type": "stream",
     "text": [
      "Welcome to Enigma! 💪🧠\n",
      "-------------------------------------------------------\n",
      "1) 0-1\n"
     ]
    },
    {
     "name": "stdin",
     "output_type": "stream",
     "text": [
      "Ans: -1\n"
     ]
    },
    {
     "name": "stdout",
     "output_type": "stream",
     "text": [
      "\n",
      "2) 12-3\n"
     ]
    },
    {
     "name": "stdin",
     "output_type": "stream",
     "text": [
      "Ans: 9\n"
     ]
    },
    {
     "name": "stdout",
     "output_type": "stream",
     "text": [
      "\n",
      "3) 11+8\n"
     ]
    },
    {
     "name": "stdin",
     "output_type": "stream",
     "text": [
      "Ans: 19\n"
     ]
    },
    {
     "name": "stdout",
     "output_type": "stream",
     "text": [
      "\n",
      "4) 19*12\n"
     ]
    },
    {
     "name": "stdin",
     "output_type": "stream",
     "text": [
      "Ans: 228\n"
     ]
    },
    {
     "name": "stdout",
     "output_type": "stream",
     "text": [
      "\n",
      "5) 4-2\n"
     ]
    },
    {
     "name": "stdin",
     "output_type": "stream",
     "text": [
      "Ans: 2\n"
     ]
    },
    {
     "name": "stdout",
     "output_type": "stream",
     "text": [
      "\n",
      "6) 9-12\n"
     ]
    },
    {
     "name": "stdin",
     "output_type": "stream",
     "text": [
      "Ans: -3\n"
     ]
    },
    {
     "name": "stdout",
     "output_type": "stream",
     "text": [
      "\n",
      "7) 10*14\n"
     ]
    },
    {
     "name": "stdin",
     "output_type": "stream",
     "text": [
      "Ans: 140\n"
     ]
    },
    {
     "name": "stdout",
     "output_type": "stream",
     "text": [
      "\n",
      "8) 5-10\n"
     ]
    },
    {
     "name": "stdin",
     "output_type": "stream",
     "text": [
      "Ans: -5\n"
     ]
    },
    {
     "name": "stdout",
     "output_type": "stream",
     "text": [
      "\n",
      "9) 14*5\n"
     ]
    },
    {
     "name": "stdin",
     "output_type": "stream",
     "text": [
      "Ans: 70\n"
     ]
    },
    {
     "name": "stdout",
     "output_type": "stream",
     "text": [
      "\n",
      "10) 17-18\n"
     ]
    },
    {
     "name": "stdin",
     "output_type": "stream",
     "text": [
      "Ans: -1\n"
     ]
    },
    {
     "name": "stdout",
     "output_type": "stream",
     "text": [
      "\n",
      "11) 6+3\n"
     ]
    },
    {
     "name": "stdin",
     "output_type": "stream",
     "text": [
      "Ans: 9\n"
     ]
    },
    {
     "name": "stdout",
     "output_type": "stream",
     "text": [
      "\n",
      "12) 13*5\n"
     ]
    },
    {
     "name": "stdin",
     "output_type": "stream",
     "text": [
      "Ans: 65\n"
     ]
    },
    {
     "name": "stdout",
     "output_type": "stream",
     "text": [
      "\n",
      "13) 9+18\n"
     ]
    },
    {
     "name": "stdin",
     "output_type": "stream",
     "text": [
      "Ans: 2\n"
     ]
    },
    {
     "name": "stdout",
     "output_type": "stream",
     "text": [
      "\n",
      "oops! your answer is wrong 😔, the correct answer is 27\n",
      "🎉 your score is: 12\n",
      "-------------------------------------------------------\n",
      "you took 53.6 seconds to answer 12 questions\n",
      "\n",
      "Hurray! You just broke your record...\n",
      "Your highest score is 12\n",
      "\n"
     ]
    },
    {
     "name": "stdin",
     "output_type": "stream",
     "text": [
      "would like to play again?  no\n"
     ]
    },
    {
     "name": "stdout",
     "output_type": "stream",
     "text": [
      "Thankyou for visiting our game 😊!\n"
     ]
    }
   ],
   "source": [
    "import random as ran\n",
    "import time as t\n",
    "\n",
    "def game(state,a=\"yes\"):\n",
    "    if(state==\"1\" and a.lower()==\"yes\"):    \n",
    "        print(\"Welcome to Enigma! 💪🧠\")\n",
    "        print(\"-------------------------------------------------------\")\n",
    "        score=0\n",
    "        st=t.time()\n",
    "        while(True):  \n",
    "            num1=ran.randrange(20)\n",
    "            num2=ran.randrange(20)\n",
    "            \n",
    "            operations=[\"+\",\"-\",\"*\",\"/\"]\n",
    "            opt=ran.choice(operations)\n",
    "            \n",
    "            if (opt=='/' and num2==0):\n",
    "                num2=ran.randint(1,21)\n",
    "                \n",
    "            print(f\"{score+1}) \",end=\"\")\n",
    "            q=f\"{num1}{opt}{num2}\"\n",
    "            print(q)\n",
    "            ans=int(input(\"Ans:\"))\n",
    "            print()\n",
    "            if ans==int(eval(q)):\n",
    "                score+=1\n",
    "            else:        \n",
    "                print(f\"oops! your answer is wrong 😔, the correct answer is {int(eval(q))}\")\n",
    "                print(\"🎉 your score is:\",score)\n",
    "\n",
    "                print(\"-------------------------------------------------------\")                 \n",
    "                et=t.time()\n",
    "                tt=et-st\n",
    "                print(f\"you took {tt:.1f} seconds to answer {score} questions\")\n",
    "                print()\n",
    "                \n",
    "                try:\n",
    "                    with open(\"highest_score.txt\",\"r+\") as f:\n",
    "                        for line in f.readlines():\n",
    "                            l=line\n",
    "                        \n",
    "                        if int(l)<score:\n",
    "                            print(\"Hurray! You just broke your record...\")\n",
    "                            print(f\"Your highest score is {score}\")\n",
    "                            f.write(str(score)+\"\\n\")\n",
    "                            \n",
    "                        else:\n",
    "                            print(f\"Your highest score is {l}\")\n",
    "\n",
    "                except:\n",
    "                    with open(\"highest_score.txt\",\"a\") as f:\n",
    "                        f.write(str(score)+\"\\n\")\n",
    "                    print(f\"Great! Your highest score is {score}\")\n",
    "                    \n",
    "                print()\n",
    "                a=input(\"would like to play again? \")\n",
    "                if a.strip().lower()==\"yes\":\n",
    "                    print(\"Great👌!\")\n",
    "                    print()\n",
    "                    game(\"1\",a)     \n",
    "                return\n",
    "                \n",
    "    return\n",
    "            \n",
    "n=input(\"Press '1' to start or '2' to exit game:\")\n",
    "game(n)\n",
    "print(\"Thankyou for visiting our game 😊!\")"
   ]
  }
 ],
 "metadata": {
  "kernelspec": {
   "display_name": "Python 3 (ipykernel)",
   "language": "python",
   "name": "python3"
  },
  "language_info": {
   "codemirror_mode": {
    "name": "ipython",
    "version": 3
   },
   "file_extension": ".py",
   "mimetype": "text/x-python",
   "name": "python",
   "nbconvert_exporter": "python",
   "pygments_lexer": "ipython3",
   "version": "3.13.5"
  }
 },
 "nbformat": 4,
 "nbformat_minor": 5
}

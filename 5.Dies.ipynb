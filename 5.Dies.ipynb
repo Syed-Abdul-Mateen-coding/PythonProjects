{
 "cells": [
  {
   "cell_type": "code",
   "execution_count": null,
   "id": "93eabb24-0ea3-4e46-9c07-8695b92f1dce",
   "metadata": {},
   "outputs": [
    {
     "name": "stdin",
     "output_type": "stream",
     "text": [
      "Do you want to play the game?  yes\n"
     ]
    },
    {
     "name": "stdout",
     "output_type": "stream",
     "text": [
      "\n",
      "Welcome to the game of Dies...\n",
      "\n",
      "\n",
      "Player1 Score: 0\n",
      "Player2 Score: 0\n",
      "Player1:\n"
     ]
    },
    {
     "name": "stdin",
     "output_type": "stream",
     "text": [
      "press 1 to roll or 2 to hold:  1\n"
     ]
    },
    {
     "name": "stdout",
     "output_type": "stream",
     "text": [
      "Your roll is: 2\n",
      "your score is: 2\n",
      "\n",
      "Player1 Score: 2\n",
      "Player2 Score: 0\n",
      "Player1:\n"
     ]
    },
    {
     "name": "stdin",
     "output_type": "stream",
     "text": [
      "press 1 to roll or 2 to hold:  1\n"
     ]
    },
    {
     "name": "stdout",
     "output_type": "stream",
     "text": [
      "Your roll is: 1\n",
      "Oh shit! you lost 5 points\n",
      "your score is: -3\n",
      "Your turn is finished\n",
      "\n",
      "Player1 Score: -3\n",
      "Player2 Score: 0\n",
      "Player2:\n"
     ]
    },
    {
     "name": "stdin",
     "output_type": "stream",
     "text": [
      "press 1 to roll or 2 to hold:  1\n"
     ]
    },
    {
     "name": "stdout",
     "output_type": "stream",
     "text": [
      "Your roll is: 5\n",
      "your score is: 5\n",
      "\n",
      "Player1 Score: -3\n",
      "Player2 Score: 5\n",
      "Player2:\n"
     ]
    }
   ],
   "source": [
    "import random as r\n",
    "def agree():\n",
    "    a=input(\"Do you want to play the game? \")\n",
    "    if(a.lower()==\"yes\"):\n",
    "        play()\n",
    "    else:\n",
    "        return\n",
    "\n",
    "\n",
    "def play():\n",
    "    print()\n",
    "    print(\"Welcome to the game of Dies...\")\n",
    "    print()\n",
    "    pscore=0  \n",
    "    cscore=0\n",
    "    while(pscore<30 and cscore<30):\n",
    "        while(pscore<30):\n",
    "            print()\n",
    "            print(f\"Player1 Score: {pscore}\")\n",
    "            print(f\"Player2 Score: {cscore}\")\n",
    "            print(\"Player1:\")\n",
    "            p1=input(\"press 1 to roll or 2 to hold: \")\n",
    "            if p1 not in (\"1\",\"2\"):\n",
    "                print(\"Please enter a valid action form (1,2)\")\n",
    "                continue\n",
    "\n",
    "                \n",
    "            if(p1==\"1\"): \n",
    "                num=rolling()\n",
    "                print(\"Your roll is:\",num)\n",
    "                if(num==1):\n",
    "                    pscore-=5\n",
    "                    print(f\"Oh shit! you lost 5 points\")\n",
    "                    print(f\"your score is: {pscore}\")\n",
    "                    print(\"Your turn is finished\")\n",
    "                    break\n",
    "                else:\n",
    "                    pscore+=num\n",
    "                    print(f\"your score is: {pscore}\")\n",
    "                    \n",
    "            if(p1==\"2\"):\n",
    "                break\n",
    "                  \n",
    "            \n",
    "        while(cscore<30):\n",
    "            print()\n",
    "            if(pscore>=30):\n",
    "                break  \n",
    "                \n",
    "            print(f\"Player1 Score: {pscore}\")\n",
    "            print(f\"Player2 Score: {cscore}\")\n",
    "            print(\"Player2:\")\n",
    "            p2=input(\"press 1 to roll or 2 to hold: \")\n",
    "            if p2 not in (\"1\",\"2\"):\n",
    "                print(\"Please enter a valid action form (1,2)\")\n",
    "                continue\n",
    "\n",
    "                \n",
    "            if(p2==\"1\"):\n",
    "                num=rolling()\n",
    "                print(\"Your roll is:\",num)\n",
    "                if(num==1):\n",
    "                    cscore-=5\n",
    "                    print(f\"Oh shit! you lost 5 points\")\n",
    "                    print(f\"your score is: {cscore}\")\n",
    "                    print(\"Your turn is finished\")\n",
    "                    break\n",
    "                else:\n",
    "                    cscore+=num\n",
    "                    print(f\"your score is: {cscore}\")\n",
    "                    \n",
    "            if(p2==\"2\"):\n",
    "                break\n",
    "\n",
    "            print()\n",
    "\n",
    "    if(pscore>cscore):\n",
    "        print(\"Hurray! Player1 wins\")\n",
    "    else:\n",
    "        print(\"Hurray! Player2 wins\")\n",
    "    print(f\"Player1 Score:{pscore}\")\n",
    "    print(f\"Player2 Score:{cscore}\")\n",
    "            \n",
    "    re=input(\"Do you want to play again? \")\n",
    "    if re.lower()==\"yes\":\n",
    "        play()\n",
    "    else:\n",
    "        return\n",
    "\n",
    "\n",
    "                   \n",
    "\n",
    "def rolling():\n",
    "    roll=r.randint(1,6)\n",
    "    return roll\n",
    "        \n",
    "\n",
    "\n",
    "agree()\n",
    "print(\"Thankyou for visiting our game\")\n"
   ]
  },
  {
   "cell_type": "code",
   "execution_count": null,
   "id": "a8251cdd-e5ee-49fc-b356-8b0c5ce15542",
   "metadata": {},
   "outputs": [],
   "source": [
    "import random\n",
    "\n",
    "\n",
    "def roll():\n",
    "    roll = random.randint(1,6)\n",
    "    return roll\n",
    "\n",
    "\n",
    "while True:\n",
    "    players = input(\"Enter the number of players (2 - 4): \")\n",
    "    if players.isdigit():\n",
    "        players = int(players)\n",
    "        if 2 <= players <= 4:\n",
    "            break\n",
    "        else:\n",
    "            print(\"Must be between 2 - 4 players.\")\n",
    "    else:\n",
    "        print(\"Invalid option! try again.\")\n",
    "\n",
    "max_score = 50\n",
    "player_scores = [0 for _ in range(players)]\n",
    "\n",
    "while max(player_scores) < max_score:\n",
    "    for player_idx in range(players):\n",
    "        print(\"\\nPlayer number\", player_idx + 1, \"turn has just started!\")\n",
    "        print(\"Your total score is:\", player_scores[player_idx], \"\\n\")\n",
    "        current_score = 0\n",
    "\n",
    "        while True:\n",
    "            should_roll = input(\"Would you like to roll (y)? \")\n",
    "            if should_roll.lower() != \"y\":\n",
    "                break\n",
    "\n",
    "            value = roll()\n",
    "            if value == 1:\n",
    "                print(\"You rolled a 1! Turn done!\")\n",
    "                current_score = 0\n",
    "                break\n",
    "            else:\n",
    "                current_score += value\n",
    "                print(\"You rolled a:\", value)\n",
    "\n",
    "            print(\"Your score is:\", current_score)\n",
    "\n",
    "        player_scores[player_idx] += current_score\n",
    "        print(\"Your total score is:\", player_scores[player_idx])\n",
    "\n",
    "max_score = max(player_scores)\n",
    "winning_idx = player_scores.index(max_score)\n",
    "print(\"Player number\", winning_idx + 1,\n",
    "      \"is the winner with a score of:\", max_score)"
   ]
  }
 ],
 "metadata": {
  "kernelspec": {
   "display_name": "Python 3 (ipykernel)",
   "language": "python",
   "name": "python3"
  },
  "language_info": {
   "codemirror_mode": {
    "name": "ipython",
    "version": 3
   },
   "file_extension": ".py",
   "mimetype": "text/x-python",
   "name": "python",
   "nbconvert_exporter": "python",
   "pygments_lexer": "ipython3",
   "version": "3.13.5"
  }
 },
 "nbformat": 4,
 "nbformat_minor": 5
}

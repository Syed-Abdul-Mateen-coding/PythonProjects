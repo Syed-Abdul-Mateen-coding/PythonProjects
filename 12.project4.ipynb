{
 "cells": [
  {
   "cell_type": "code",
   "execution_count": 1,
   "id": "1d085e61-94c4-4d0d-847e-66a3acacf127",
   "metadata": {},
   "outputs": [
    {
     "name": "stdin",
     "output_type": "stream",
     "text": [
      " 4\n"
     ]
    },
    {
     "name": "stdout",
     "output_type": "stream",
     "text": [
      "[(109, 1), (101, 0), (102, 0), (103, 0), (105, 0), (106, 0), (107, 0), (108, 0), (110, 0), (111, 0), (112, 0), (113, 0), (114, 0), (115, 0), (116, 0), (117, 0), (118, 0), (119, 0), (120, 0), (121, 0), (122, 0), (123, 0), (124, 0), (125, 0), (126, 0), (127, 0)]\n"
     ]
    }
   ],
   "source": [
    "import json\n",
    "def load_data(file):\n",
    "    with open(file,\"r\") as f:\n",
    "        return json.load(f)\n",
    "    \n",
    "def pages_you_may_like(user_id,data):\n",
    "    user_pages={}\n",
    "    for user in data['users']:\n",
    "        user_pages[user['id']]=set(user['liked_pages'])\n",
    "    \n",
    "    if user_id not in user_pages:\n",
    "        return[]\n",
    "    \n",
    "    user_liked_pages=user_pages[user_id]\n",
    "    page_suggestion={}\n",
    "    \n",
    "\n",
    "    for other_users,pages in user_pages.items():\n",
    "        if other_users!=user_id:\n",
    "            shared_pages=user_liked_pages.intersection(pages)\n",
    "     \n",
    "            for page in pages:\n",
    "                if page not in user_liked_pages:\n",
    "                    page_suggestion[page]=page_suggestion.get(page,0)+len(shared_pages)  ##score to suggest the page\n",
    "                    \n",
    "    sorted_pages=sorted(page_suggestion.items(),key=lambda x:x[1],reverse=True) \n",
    "    return[(page_id,score) for page_id,score in sorted_pages]\n",
    "\n",
    "data=load_data(\"massive_data.json\")\n",
    "user_id=input()\n",
    "pages_recommendation=pages_you_may_like(int(user_id),data)\n",
    "print(pages_recommendation)\n",
    "\n"
   ]
  },
  {
   "cell_type": "code",
   "execution_count": 34,
   "id": "c9724591-a314-477e-8472-8de796315966",
   "metadata": {},
   "outputs": [
    {
     "name": "stdin",
     "output_type": "stream",
     "text": [
      "Enter your id: 1\n"
     ]
    },
    {
     "data": {
      "text/plain": [
       "[(103, 2),\n",
       " (105, 1),\n",
       " (107, 1),\n",
       " (104, 0),\n",
       " (106, 0),\n",
       " (108, 0),\n",
       " (109, 0),\n",
       " (110, 0),\n",
       " (111, 0),\n",
       " (112, 0),\n",
       " (113, 0),\n",
       " (114, 0),\n",
       " (115, 0),\n",
       " (116, 0),\n",
       " (117, 0),\n",
       " (118, 0),\n",
       " (119, 0),\n",
       " (120, 0),\n",
       " (121, 0),\n",
       " (122, 0),\n",
       " (123, 0),\n",
       " (124, 0),\n",
       " (125, 0),\n",
       " (126, 0),\n",
       " (127, 0)]"
      ]
     },
     "execution_count": 34,
     "metadata": {},
     "output_type": "execute_result"
    }
   ],
   "source": [
    "#Revisit(Practice)\n",
    "\n",
    "import json\n",
    "def load_file(file):\n",
    "    with open(file,\"r\") as f:\n",
    "        return json.load(f)\n",
    "    \n",
    "def pages_you_may_like(user_id,data):\n",
    "    user_pages={}\n",
    "    for user in data['users']:\n",
    "        user_pages[user['id']]=set(user['liked_pages'])\n",
    "        user_pages={page:user_pages[page] for page in user_pages if user_pages[page]}\n",
    "        \n",
    "        \n",
    "    if user_id not in user_pages:\n",
    "        return\n",
    "        \n",
    "        \n",
    "    user_liked_pages=user_pages[user_id]\n",
    "    \n",
    "    \n",
    "    page_suggestions={}\n",
    "    for others,pages in user_pages.items():\n",
    "        if others!=user_id:\n",
    "            shared_pages=pages.intersection(user_liked_pages)\n",
    "            for page in pages:\n",
    "                if(page not in user_liked_pages):\n",
    "                    page_suggestions[page]=page_suggestions.get(page,0)+len(shared_pages)\n",
    "                \n",
    "    sorted_pages=sorted(page_suggestions.items(),key=lambda x:x[1],reverse=True)\n",
    "    return[(pg_id,score) for pg_id,score in sorted_pages]\n",
    "            \n",
    "\n",
    "data=load_file(\"massive_data.json\")\n",
    "n=int(input(\"Enter your id:\"))\n",
    "pages_you_may_like(n,data)\n"
   ]
  }
 ],
 "metadata": {
  "kernelspec": {
   "display_name": "Python 3",
   "language": "python",
   "name": "python3"
  },
  "language_info": {
   "codemirror_mode": {
    "name": "ipython",
    "version": 3
   },
   "file_extension": ".py",
   "mimetype": "text/x-python",
   "name": "python",
   "nbconvert_exporter": "python",
   "pygments_lexer": "ipython3",
   "version": "3.6.13"
  }
 },
 "nbformat": 4,
 "nbformat_minor": 5
}

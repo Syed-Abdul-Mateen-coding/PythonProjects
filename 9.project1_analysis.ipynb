{
 "cells": [
  {
   "cell_type": "code",
   "execution_count": null,
   "id": "de542c51-ee23-4cae-9374-859c4ad5bcb5",
   "metadata": {},
   "outputs": [],
   "source": [
    "import json"
   ]
  },
  {
   "cell_type": "code",
   "execution_count": null,
   "id": "97fd005b-35cd-4f5c-8657-961175d904e6",
   "metadata": {},
   "outputs": [],
   "source": [
    "def load_data(file):\n",
    "    with open(file,\"r\") as f:\n",
    "        data=json.load(f)\n",
    "    return data"
   ]
  },
  {
   "cell_type": "code",
   "execution_count": null,
   "id": "da4830de-7ede-4699-b3a3-6aba03e57038",
   "metadata": {},
   "outputs": [],
   "source": [
    "data=load_data(\"data1.json\")"
   ]
  },
  {
   "cell_type": "code",
   "execution_count": 6,
   "id": "7fc865a8-c131-434e-b043-2bb449c5230a",
   "metadata": {},
   "outputs": [],
   "source": [
    "def display_users(data):\n",
    "    print(\"users nad their connections:\\n\")\n",
    "    for user in data['users']:\n",
    "        print(f\"id:{user['id']}-> {user['name']} is friends with {user['friends']} and their liked pages are {user['liked_pages']}\")\n",
    "        \n",
    "    print(\"\\n\\npages nad their information:\\n\")\n",
    "    for page in data['pages']:\n",
    "        print(f\"{page['id']} reffers to {page['name']}\")"
   ]
  },
  {
   "cell_type": "code",
   "execution_count": null,
   "id": "257468b2-e4a3-428c-84e2-a53ee0483630",
   "metadata": {},
   "outputs": [
    {
     "name": "stdout",
     "output_type": "stream",
     "text": [
      "users nad their connections:\n",
      "\n",
      "id:1-> Amit is friends with [2, 3] and their liked pages are [101]\n",
      "id:2-> Priya is friends with [1, 4] and their liked pages are [102]\n",
      "id:3-> Rahul is friends with [1] and their liked pages are [101, 103]\n",
      "id:4-> Sara is friends with [2] and their liked pages are [104]\n",
      "\n",
      "\n",
      "pages nad their information:\n",
      "\n",
      "101 reffers to Python Developers\n",
      "102 reffers to Data Science Enthusiasts\n",
      "103 reffers to AI & ML Community\n",
      "104 reffers to Web Dev Hub\n"
     ]
    }
   ],
   "source": [
    "display_users(data)"
   ]
  },
  {
   "cell_type": "code",
   "execution_count": null,
   "id": "e50c4db4-a6a8-4eeb-bce0-a1523f39fdda",
   "metadata": {},
   "outputs": [],
   "source": []
  },
  {
   "cell_type": "code",
   "execution_count": 21,
   "id": "c5709397-3b5e-432b-b033-f012f0152a2a",
   "metadata": {},
   "outputs": [
    {
     "data": {
      "text/plain": [
       "{'users': [{'id': 1, 'name': 'Amit', 'friends': [2, 3], 'liked_pages': [101]},\n",
       "  {'id': 2, 'name': 'Priya', 'friends': [1, 4], 'liked_pages': [102]},\n",
       "  {'id': 3, 'name': 'Rahul', 'friends': [1], 'liked_pages': [101, 103]},\n",
       "  {'id': 4, 'name': 'Sara', 'friends': [2], 'liked_pages': [104]}],\n",
       " 'pages': [{'id': 101, 'name': 'Python Developers'},\n",
       "  {'id': 102, 'name': 'Data Science Enthusiasts'},\n",
       "  {'id': 103, 'name': 'AI & ML Community'},\n",
       "  {'id': 104, 'name': 'Web Dev Hub'}]}"
      ]
     },
     "execution_count": 21,
     "metadata": {},
     "output_type": "execute_result"
    }
   ],
   "source": [
    "#Revisit(Practice)\n",
    "import json\n",
    "import pandas as pd\n",
    "def load_file(file):\n",
    "    with open(file,\"r\") as f:\n",
    "        return json.load(f)\n",
    "    \n",
    "data=load_file(\"data1.json\")\n",
    "\n",
    "data\n"
   ]
  },
  {
   "cell_type": "code",
   "execution_count": 22,
   "id": "8a5369fc-f216-4a38-a1e8-80515bfb0b31",
   "metadata": {},
   "outputs": [
    {
     "name": "stdout",
     "output_type": "stream",
     "text": [
      "Users and their connections\n",
      "\n",
      "id:1--> Amit is friend of [2, 3] and their liked pages are [101]\n",
      "id:2--> Priya is friend of [1, 4] and their liked pages are [102]\n",
      "id:3--> Rahul is friend of [1] and their liked pages are [101, 103]\n",
      "id:4--> Sara is friend of [2] and their liked pages are [104]\n"
     ]
    }
   ],
   "source": [
    "print(\"Users and their connections\\n\")\n",
    "for user in data['users']:\n",
    "    print(f\"id:{user['id']}--> {user['name']} is friend of {user['friends']} and their liked pages are {user['liked_pages']}\")"
   ]
  },
  {
   "cell_type": "code",
   "execution_count": 27,
   "id": "6c4e7866-e5dd-43a7-b9da-a4c44f9b181e",
   "metadata": {},
   "outputs": [
    {
     "name": "stdout",
     "output_type": "stream",
     "text": [
      "Pages and their information\n",
      "\n",
      "id:101--> 101 reffers to Python Developers\n",
      "id:102--> 102 reffers to Data Science Enthusiasts\n",
      "id:103--> 103 reffers to AI & ML Community\n",
      "id:104--> 104 reffers to Web Dev Hub\n"
     ]
    }
   ],
   "source": [
    "print(\"Pages and their information\\n\")\n",
    "for page in data['pages']:\n",
    "    print(f\"id:{page['id']}--> {page['id']} reffers to {page['name']}\")"
   ]
  },
  {
   "cell_type": "code",
   "execution_count": null,
   "id": "33c40202-576e-473f-a514-bdb23e6fdfb3",
   "metadata": {},
   "outputs": [],
   "source": []
  }
 ],
 "metadata": {
  "kernelspec": {
   "display_name": "Python 3",
   "language": "python",
   "name": "python3"
  },
  "language_info": {
   "codemirror_mode": {
    "name": "ipython",
    "version": 3
   },
   "file_extension": ".py",
   "mimetype": "text/x-python",
   "name": "python",
   "nbconvert_exporter": "python",
   "pygments_lexer": "ipython3",
   "version": "3.6.13"
  }
 },
 "nbformat": 4,
 "nbformat_minor": 5
}

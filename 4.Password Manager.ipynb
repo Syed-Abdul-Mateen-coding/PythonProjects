{
 "cells": [
  {
   "cell_type": "code",
   "execution_count": null,
   "id": "04ad8961-86c4-44db-a538-91e76947bd7b",
   "metadata": {},
   "outputs": [
    {
     "name": "stdout",
     "output_type": "stream",
     "text": [
      "Welcome Let's set your Account!\n",
      "\n"
     ]
    },
    {
     "name": "stdin",
     "output_type": "stream",
     "text": [
      "Do you want to create an Account (yes/no):  yes\n",
      "Enter your username:  maaz\n"
     ]
    },
    {
     "name": "stdout",
     "output_type": "stream",
     "text": [
      "The Account already exist!\n",
      "\n"
     ]
    }
   ],
   "source": [
    "def pwd_manager(ac):\n",
    "    try:\n",
    "        with open(ac) as f:\n",
    "            line=f.readline();\n",
    "    except:\n",
    "        print()\n",
    "        print(\"The account does not exist please create an account!\")\n",
    "        return\n",
    "            \n",
    "    mas_pwd=line.split(\":\")[1].rstrip()\n",
    "    \n",
    "    print()\n",
    "    pin=input(\"Verifying if its you: \")\n",
    "    print()\n",
    "        \n",
    "    i=4\n",
    "    while(i>=0 and pin!=mas_pwd):\n",
    "        if(i==0):\n",
    "            print(\"Your account has temporarily been block due to several incorrect attempts please try later\")\n",
    "            return\n",
    "            \n",
    "        print(f\"You have {i} attemts left. Please Enter the correct password!\")\n",
    "        pin=input(\"Enter the correct password: \")\n",
    "        print()\n",
    "        i-=1\n",
    "    \n",
    "        \n",
    "    operations(ac)\n",
    "    return\n",
    "        \n",
    "    \n",
    "def operations(acc):\n",
    "    print()\n",
    "    mode=input(\"press '1' to add password or '2' to see your password vault or 'e' to exit : \")\n",
    "    while(mode not in (\"1\",\"2\",\"e\")):\n",
    "            mode=input(\"Enter a valid operation from (1,2,e): \")      \n",
    "    while(mode!=\"e\"):\n",
    "        if(mode==\"1\"):\n",
    "            add(acc)      \n",
    "        else:\n",
    "            show(acc)\n",
    "\n",
    "        print()\n",
    "        mode=input(\"press '1' to add password or '2' to see your password vault or 'e' to exit : \")\n",
    "        while(mode not in (\"1\",\"2\",\"e\")):\n",
    "            mode=input(\"Enter a valid operation from (1,2,e): \")         \n",
    "\n",
    "\n",
    "\n",
    "    return\n",
    "        \n",
    "    \n",
    "def add(user_acc):\n",
    "    web=input(\"Enter the website to which the pass belong to: \")\n",
    "    pwd=input(\"Enter your password: \")\n",
    "\n",
    "    with open(user_acc, \"a\") as f:\n",
    "        f.write(f\"{web}:{pwd}\"+\"\\n\")\n",
    "    print(\"Password saved!\")\n",
    "    print()\n",
    "    \n",
    "def show(user_acc):\n",
    "    with open(user_acc) as f:\n",
    "        for l in f.readlines():\n",
    "            print(l)\n",
    "    \n",
    "\n",
    "def acc():\n",
    "    ac=input(\"Do you want to create an Account (yes/no): \")\n",
    "    while(ac.lower() not in (\"yes\",\"no\")):\n",
    "        ac=input(\"please eneter a valid action (yes/no): \")\n",
    "    if (ac.lower()==\"yes\"):      \n",
    "        ac=input(\"Enter your username: \")+\".txt\"\n",
    "        try:\n",
    "            with open(ac)as f:\n",
    "                pass\n",
    "            print(\"The Account already exist!\")\n",
    "        except:\n",
    "            with open(ac,\"a\")as f:\n",
    "                pass\n",
    "                \n",
    "            with open(ac)as f:\n",
    "                line=f.readline()\n",
    "                \n",
    "                if (line==\"\"):\n",
    "                    mas_pwd=input(\"Create your Master Password: \")\n",
    "                    with open(ac,\"a\") as f:\n",
    "                        f.write(f\"{acc}:{mas_pwd}\"+\"\\n\")\n",
    "            print(\"You account has successfully been created!\")\n",
    "        \n",
    "    else:\n",
    "        return\n",
    "\n",
    "\n",
    "\n",
    "        \n",
    "\n",
    "print(\"Welcome Let's set your Account!\")\n",
    "print()\n",
    "acc()\n",
    "print()\n",
    "access=input(\"Do you want to access your account (yes/no): \")\n",
    "while(access.lower() not in (\"yes\",\"no\")):\n",
    "    access=input(\"please eneter a valid action (yes/no): \")\n",
    "if access.lower()==\"yes\": \n",
    "    account=input(\"Please Enter your username: \")+\".txt\"\n",
    "    pwd_manager(account)\n",
    "\n",
    "print()\n",
    "\n",
    "print(\"Thankyou for using Maaz password manager\")"
   ]
  },
  {
   "cell_type": "code",
   "execution_count": 13,
   "id": "53844080-db27-40c0-bef1-473c369cf146",
   "metadata": {},
   "outputs": [
    {
     "name": "stdin",
     "output_type": "stream",
     "text": [
      "Enter you username: h\n",
      "Create you master password:  h\n",
      "Type 'add' to add a new password or 'view' to view the existing password or 'e' to exit:  view\n"
     ]
    },
    {
     "name": "stdout",
     "output_type": "stream",
     "text": [
      "User: google, Password: 12345\n",
      "User: yahoo, Password: 09876\n",
      "User: google, Password: 12344\n",
      "User: yutube, Password: 12334\n",
      "User: gmail, Password: 123\n"
     ]
    },
    {
     "name": "stdin",
     "output_type": "stream",
     "text": [
      "Type 'add' to add a new password or 'view' to view the existing password or 'e' to exit:  e\n"
     ]
    },
    {
     "name": "stdout",
     "output_type": "stream",
     "text": [
      "Thankyou for visiting our password manager\n"
     ]
    }
   ],
   "source": [
    "##more simplified code without encryption\n",
    "\n",
    "acc=input(\"Enter you username:\")\n",
    "mas_pwd=input(\"Create you master password: \")\n",
    "\n",
    "\n",
    "\n",
    "def add():\n",
    "    web=input(\"Enter the website to which the password belong to: \")\n",
    "    pas=input(\"Enter the password for this website: \")\n",
    "    with open(\"password1.txt\",'a') as f:\n",
    "        f.write(web+\":\"+pas+\"\\n\")\n",
    "\n",
    "\n",
    "def view():\n",
    "    with open(\"4.password1.txt\",'r') as f:\n",
    "        for line in f.readlines():\n",
    "            data=line.rstrip()                 ##-->strips the carriage return i.e \"\"\\n\"\n",
    "            user,pwd=data.split(\":\")\n",
    "            print(f\"User: {user}, Password: {pwd}\")\n",
    "\n",
    "while(True):\n",
    "    mode=input(\"Type 'add' to add a new password or 'view' to view the existing password or 'e' to exit: \")\n",
    "    if(mode.lower()==\"add\"):\n",
    "        add()\n",
    "    elif(mode.lower()==\"view\"):\n",
    "        view()\n",
    "    elif(mode.lower()==\"e\"):\n",
    "        break\n",
    "    else:\n",
    "        print(\"Please enter a valid mode!\")\n",
    "\n",
    "print(\"Thankyou for visiting our password manager\")"
   ]
  }
 ],
 "metadata": {
  "kernelspec": {
   "display_name": "Python 3 (ipykernel)",
   "language": "python",
   "name": "python3"
  },
  "language_info": {
   "codemirror_mode": {
    "name": "ipython",
    "version": 3
   },
   "file_extension": ".py",
   "mimetype": "text/x-python",
   "name": "python",
   "nbconvert_exporter": "python",
   "pygments_lexer": "ipython3",
   "version": "3.13.5"
  }
 },
 "nbformat": 4,
 "nbformat_minor": 5
}

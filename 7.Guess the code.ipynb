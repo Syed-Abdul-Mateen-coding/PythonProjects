{
 "cells": [
  {
   "cell_type": "code",
   "execution_count": 7,
   "id": "f4d2f5b8-5461-440c-9817-e1afdd3691ca",
   "metadata": {},
   "outputs": [
    {
     "name": "stdin",
     "output_type": "stream",
     "text": [
      "Do you want to start the game (y/n)?  y\n"
     ]
    },
    {
     "name": "stdout",
     "output_type": "stream",
     "text": [
      "\n",
      "Welcome to the game of codes!\n",
      "\n",
      "You have got 3 attempts to guess the correct code.\n",
      "RORO\n"
     ]
    },
    {
     "name": "stdin",
     "output_type": "stream",
     "text": [
      "This 4 digit code can be from  ('R', 'G', 'B', 'Y', 'W', 'O'):  roro\n"
     ]
    },
    {
     "name": "stdout",
     "output_type": "stream",
     "text": [
      "Guess: [1, 1, 1, 1]\n",
      "nice 4 alphabets correct!\n",
      "Great! you have guessed the code\n",
      "Attemps Taken: 1\n",
      "\n"
     ]
    },
    {
     "name": "stdin",
     "output_type": "stream",
     "text": [
      "Do you want to play again (y/n):  n\n"
     ]
    },
    {
     "name": "stdout",
     "output_type": "stream",
     "text": [
      "Thankyou for visiting our game!\n"
     ]
    }
   ],
   "source": [
    "import random as r\n",
    "\n",
    "def game():\n",
    "    print(\"Welcome to the game of codes!\")\n",
    "    print()\n",
    "    code=[\"R\",\"G\",\"B\",\"Y\",\"W\",\"O\"]\n",
    "    ccode=r.choices(code,k=4)\n",
    "    \n",
    "    tries=3\n",
    "    while(tries>0): \n",
    "        print(f\"You have got {tries} attempts to guess the correct code.\")\n",
    "\n",
    "\n",
    "        print(\"\".join(ccode))\n",
    "        ucode=input(f\"This 4 digit code can be from  {tuple(code)}: \").upper()\n",
    "        \n",
    "        t=1\n",
    "        for x in ucode:\n",
    "          if (x not in code):\n",
    "            t=0\n",
    "\n",
    "        while(t==0 or len(ucode)!=4):\n",
    "            ucode=input(f\"Please enter a 4 alphabet valid code from {tuple(code)}: \").upper()\n",
    "            t=1\n",
    "            for x in ucode:\n",
    "              if (x not in code):\n",
    "                t=0        \n",
    "            print(\"\".join(ccode))\n",
    "  \n",
    "        arr=[0 for _ in ucode]\n",
    "        for i in range(len(ccode)):\n",
    "          if(ccode[i]==ucode[i]):\n",
    "            arr[i]=1\n",
    "        \n",
    "        print(f\"Guess: {arr}\")\n",
    "        correct=[x for x in arr if x==1]\n",
    "        print(f\"nice {sum(correct)} alphabets correct!\")\n",
    "\n",
    "        if sum(arr)==len(ccode):\n",
    "          print(\"Great! you have guessed the code\")\n",
    "          print(f\"Attemps Taken: {3-(tries-1)}\")\n",
    "          print()\n",
    "          a=input(\"Do you want to play again (y/n): \")\n",
    "          while(a.lower() not in (\"y\",\"n\")):\n",
    "              a=input(\"please enter a valid action (y/n): \")\n",
    "\n",
    "          if(a.lower()==\"y\"):\n",
    "              print()\n",
    "              game()\n",
    "\n",
    "          return\n",
    "\n",
    "        else:\n",
    "          print(\"Opps! its not the correct code\")\n",
    "          print()\n",
    "          tries-=1\n",
    "    \n",
    "    print(\"Oh! seems that you are out of attempts...\")\n",
    "    a=input(\"Do you want to play again (y/n): \")\n",
    "    while(a.lower() not in (\"y\",\"n\")):\n",
    "        a=input(\"please enter a valid action (y/n): \")\n",
    "\n",
    "    if(a.lower()==\"y\"):\n",
    "        print()\n",
    "        game()\n",
    "\n",
    "    return\n",
    "\n",
    "\n",
    "s=input(\"Do you want to start the game (y/n)? \")\n",
    "while(s.lower() not in (\"y\",\"n\")):\n",
    "        s=input(\"please enter a valid action (y/n): \")\n",
    "    \n",
    "if(s.lower()==\"y\"):\n",
    "        print()\n",
    "        game()\n",
    "\n",
    "print(\"Thankyou for visiting our game!\")"
   ]
  },
  {
   "cell_type": "code",
   "execution_count": 6,
   "id": "ba916a89-2cb4-4180-962d-d52078335f73",
   "metadata": {},
   "outputs": [
    {
     "name": "stdout",
     "output_type": "stream",
     "text": [
      "m\n",
      "a\n",
      "a\n",
      "z\n"
     ]
    }
   ],
   "source": []
  }
 ],
 "metadata": {
  "kernelspec": {
   "display_name": "Python 3 (ipykernel)",
   "language": "python",
   "name": "python3"
  },
  "language_info": {
   "codemirror_mode": {
    "name": "ipython",
    "version": 3
   },
   "file_extension": ".py",
   "mimetype": "text/x-python",
   "name": "python",
   "nbconvert_exporter": "python",
   "pygments_lexer": "ipython3",
   "version": "3.13.5"
  }
 },
 "nbformat": 4,
 "nbformat_minor": 5
}

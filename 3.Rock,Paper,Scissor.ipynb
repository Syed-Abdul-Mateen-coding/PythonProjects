{
 "cells": [
  {
   "cell_type": "code",
   "execution_count": 2,
   "id": "641a2444-f299-4d59-958d-9c8f67c00b11",
   "metadata": {},
   "outputs": [
    {
     "name": "stdin",
     "output_type": "stream",
     "text": [
      "press 1 to play or 2 to exit the game:  1\n"
     ]
    },
    {
     "name": "stdout",
     "output_type": "stream",
     "text": [
      "\n",
      "\n",
      "Welcome to the game\n",
      "It's a best of 3 match!\n",
      "\n",
      "Press '1' for \"paper\"\n",
      "      '2' for \"rock\"\n",
      "      '3' for \"scissor\"\n"
     ]
    },
    {
     "name": "stdin",
     "output_type": "stream",
     "text": [
      "Your option:  2\n"
     ]
    },
    {
     "name": "stdout",
     "output_type": "stream",
     "text": [
      "\n",
      "your option: rock\n",
      "Bot's option: scissor\n",
      "Great! You win.\n",
      "\n",
      "Press '1' for \"paper\"\n",
      "      '2' for \"rock\"\n",
      "      '3' for \"scissor\"\n"
     ]
    },
    {
     "name": "stdin",
     "output_type": "stream",
     "text": [
      "Your option:  2\n"
     ]
    },
    {
     "name": "stdout",
     "output_type": "stream",
     "text": [
      "\n",
      "your option: rock\n",
      "Bot's option: scissor\n",
      "Great! You win.\n",
      "\n",
      "Press '1' for \"paper\"\n",
      "      '2' for \"rock\"\n",
      "      '3' for \"scissor\"\n"
     ]
    },
    {
     "name": "stdin",
     "output_type": "stream",
     "text": [
      "Your option:  2\n"
     ]
    },
    {
     "name": "stdout",
     "output_type": "stream",
     "text": [
      "\n",
      "your option: rock\n",
      "Bot's option: scissor\n",
      "Great! You win.\n",
      "\n",
      "\n",
      "Your Score: 3\n",
      "Bot's score: 0\n",
      "Hurray! You won the match\n",
      "\n"
     ]
    },
    {
     "name": "stdin",
     "output_type": "stream",
     "text": [
      "do you want to play again?  no\n"
     ]
    },
    {
     "name": "stdout",
     "output_type": "stream",
     "text": [
      "\n",
      "Thankyou for visiting our game\n"
     ]
    }
   ],
   "source": [
    "import random as r\n",
    "def game(a=\"1\",replay=\"yes\"):\n",
    "    if(a==\"1\" and replay.lower()==\"yes\"):\n",
    "        print(\"Welcome to the game\")\n",
    "        print(\"It's a best of 3 match!\")\n",
    "        print()\n",
    "        \n",
    "        cscore=0\n",
    "        pscore=0 \n",
    "        while(cscore+pscore<3):   \n",
    "            options={1:\"paper\",2:\"rock\",3:\"scissor\"}\n",
    "            print(\"Press '1' for \\\"paper\\\"\\n      '2' for \\\"rock\\\"\\n      '3' for \\\"scissor\\\"\")\n",
    "            pin=int(input(\"Your option: \"))\n",
    "            \n",
    "            while (pin not in (1,2,3)):\n",
    "                pin=int(input(\"Please enter a valid option from(1,2,3): \"))\n",
    "            #the inner while loop above can be optimised:\n",
    "            # if (pin not in (1,2,3)):\n",
    "            #     continue\n",
    "\n",
    "            \n",
    "            cin=r.randint(1,3)\n",
    "            print()\n",
    "            print(\"your option:\",options[pin])\n",
    "            print(\"Bot's option:\",options[cin])\n",
    "            if((pin+1)-(((pin+1)//4)*(pin))==cin):\n",
    "                print(\"Great! You win.\")\n",
    "                pscore+=1\n",
    "            elif(cin==pin):\n",
    "                print(\"Draw\")\n",
    "            else:\n",
    "                print(\"oops! You lose\")\n",
    "                cscore+=1\n",
    "                \n",
    "            print()\n",
    "                    \n",
    "        print()\n",
    "        print(\"Your Score:\",pscore)\n",
    "        print(\"Bot's score:\",cscore)\n",
    "        if(cscore<pscore):\n",
    "            print(\"Hurray! You won the match\")\n",
    "        elif(cscore==pscore):\n",
    "            print(\"Hey its a Draw!\")\n",
    "        else:\n",
    "            print(\"Oh no! you lost this match\")\n",
    "\n",
    "        print()\n",
    "        replay=input(\"do you want to play again? \")\n",
    "        game(\"1\",replay)\n",
    "                  \n",
    "    else:\n",
    "        return\n",
    "            \n",
    "\n",
    "\n",
    "a=input(\"press 1 to play or 2 to exit the game: \")\n",
    "print()\n",
    "game(a,\"yes\")\n",
    "print()\n",
    "print(\"Thankyou for visiting our game!\")"
   ]
  }
 ],
 "metadata": {
  "kernelspec": {
   "display_name": "Python 3 (ipykernel)",
   "language": "python",
   "name": "python3"
  },
  "language_info": {
   "codemirror_mode": {
    "name": "ipython",
    "version": 3
   },
   "file_extension": ".py",
   "mimetype": "text/x-python",
   "name": "python",
   "nbconvert_exporter": "python",
   "pygments_lexer": "ipython3",
   "version": "3.13.5"
  }
 },
 "nbformat": 4,
 "nbformat_minor": 5
}

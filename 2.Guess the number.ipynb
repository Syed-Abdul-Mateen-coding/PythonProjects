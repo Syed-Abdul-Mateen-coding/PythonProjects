{
 "cells": [
  {
   "cell_type": "code",
   "execution_count": 1,
   "id": "8faf4bf7-3091-4fb7-a385-9745633ece62",
   "metadata": {},
   "outputs": [
    {
     "name": "stdin",
     "output_type": "stream",
     "text": [
      "Please press 1 to start or 2 to exit the game:  1\n"
     ]
    },
    {
     "name": "stdout",
     "output_type": "stream",
     "text": [
      "Welcome to Mathmagic\n",
      "Lets test your luck!\n",
      "\n",
      "The number is in the range from 0 to 100\n"
     ]
    },
    {
     "name": "stdin",
     "output_type": "stream",
     "text": [
      "Enter your guess:  45\n"
     ]
    },
    {
     "name": "stdout",
     "output_type": "stream",
     "text": [
      "oops! The number is smaller than your guess\n",
      "\n"
     ]
    },
    {
     "name": "stdin",
     "output_type": "stream",
     "text": [
      "Enter your guess:  35\n"
     ]
    },
    {
     "name": "stdout",
     "output_type": "stream",
     "text": [
      "oops! The number is smaller than your guess\n",
      "\n"
     ]
    },
    {
     "name": "stdin",
     "output_type": "stream",
     "text": [
      "Enter your guess:  25\n"
     ]
    },
    {
     "name": "stdout",
     "output_type": "stream",
     "text": [
      "oops! The number is greater than your guess\n",
      "\n"
     ]
    },
    {
     "name": "stdin",
     "output_type": "stream",
     "text": [
      "Enter your guess:  30\n"
     ]
    },
    {
     "name": "stdout",
     "output_type": "stream",
     "text": [
      "Hurray! your guess is right\n",
      "you took 4 attempts\n",
      "\n"
     ]
    },
    {
     "name": "stdin",
     "output_type": "stream",
     "text": [
      "press 1 to play again or 2 to exit:  2\n"
     ]
    },
    {
     "name": "stdout",
     "output_type": "stream",
     "text": [
      "\n",
      "Thank you for visiting our game\n"
     ]
    }
   ],
   "source": [
    "import random as r\n",
    "def agree(a):\n",
    "    if a.strip()==\"1\":\n",
    "        game()\n",
    "    else:\n",
    "        return\n",
    "        \n",
    "def game():\n",
    "    print(\"Welcome to Mathmagic\")\n",
    "    print(\"Lets test your luck!\")\n",
    "    print()\n",
    "    n=r.randint(1,100)\n",
    "    attempts=0\n",
    "    print(\"The number is in the range from 0 to 100\")\n",
    "    while(True):\n",
    "        attempts+=1\n",
    "        \n",
    "        guess=int(input(\"Enter your guess: \"))\n",
    "        if guess<n:\n",
    "            print(\"oops! The number is greater than your guess\")\n",
    "        elif guess>n:\n",
    "            print(\"oops! The number is smaller than your guess\")\n",
    "        else:\n",
    "            print(\"Hurray! your guess is right\")\n",
    "            print(f\"you took {attempts} attempts\")\n",
    "            break\n",
    "        print()\n",
    "        \n",
    "    print()    \n",
    "    agree(input(\"press 1 to play again or 2 to exit: \"))\n",
    "        \n",
    "\n",
    "\n",
    "s=input(\"Please press 1 to start or 2 to exit the game: \")\n",
    "agree(s)\n",
    "print()\n",
    "print(\"Thank you for visiting our game\")\n",
    "\n",
    "        "
   ]
  },
  {
   "cell_type": "code",
   "execution_count": null,
   "id": "3ba0ef3e-63a9-475f-a9a0-e0777ad9b4e8",
   "metadata": {},
   "outputs": [],
   "source": []
  }
 ],
 "metadata": {
  "kernelspec": {
   "display_name": "Python 3 (ipykernel)",
   "language": "python",
   "name": "python3"
  },
  "language_info": {
   "codemirror_mode": {
    "name": "ipython",
    "version": 3
   },
   "file_extension": ".py",
   "mimetype": "text/x-python",
   "name": "python",
   "nbconvert_exporter": "python",
   "pygments_lexer": "ipython3",
   "version": "3.13.5"
  }
 },
 "nbformat": 4,
 "nbformat_minor": 5
}

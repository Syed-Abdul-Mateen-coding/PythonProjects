{
 "cells": [
  {
   "cell_type": "code",
   "execution_count": 1,
   "id": "e716dfd3-5b19-4da0-a25a-1c1cb668ad97",
   "metadata": {},
   "outputs": [
    {
     "name": "stdin",
     "output_type": "stream",
     "text": [
      " 4\n"
     ]
    },
    {
     "name": "stdout",
     "output_type": "stream",
     "text": [
      "[2, 7, 5, 10, 12, 14, 11, 15]\n"
     ]
    }
   ],
   "source": [
    "import json\n",
    "\n",
    "def load_data(file):\n",
    "    with open(file,\"r\") as f:\n",
    "        return json.load(f)\n",
    "    \n",
    "    \n",
    "    \n",
    "def people_you_may_know(user_id,data):\n",
    "    \n",
    "    user_friends={}\n",
    "    for user in data['users']:\n",
    "        user_friends[user['id']]=set(user['friends'])\n",
    "        \n",
    "    if user_id not in user_friends:\n",
    "        return[]\n",
    "    \n",
    "    direct_friends=user_friends[user_id]    \n",
    "\n",
    "    suggestion={}\n",
    "    for friend in direct_friends:\n",
    "        for mutual in user_friends[friend]:\n",
    "            if mutual!=user_id and mutual not in direct_friends:\n",
    "                suggestion[mutual]=suggestion.get(mutual,0)+1\n",
    "    \n",
    "    sorted_suggestions=sorted(suggestion.items(), key=lambda x:x[1], reverse=True)\n",
    "    \n",
    "    return [people[0] for people in sorted_suggestions]\n",
    "        \n",
    "data=load_data(\"massive_data.json\")\n",
    "user_id=input()\n",
    "suggest=people_you_may_know(int(user_id),data)\n",
    "print(suggest)"
   ]
  },
  {
   "cell_type": "code",
   "execution_count": 50,
   "id": "c69ac3aa-83cb-459b-bd9e-d9eaf79599c6",
   "metadata": {},
   "outputs": [
    {
     "name": "stdin",
     "output_type": "stream",
     "text": [
      "Enter your id: 10\n"
     ]
    },
    {
     "data": {
      "text/plain": [
       "[11, 6, 4, 7, 14, 15, 18, 1, 2, 3, 13, 22]"
      ]
     },
     "execution_count": 50,
     "metadata": {},
     "output_type": "execute_result"
    }
   ],
   "source": [
    "#Revisit(Practice)*******************Important\n",
    "\n",
    "import json\n",
    "\n",
    "def load_file(file):\n",
    "    with open(file,\"r\") as f:\n",
    "        return json.load(f)\n",
    "\n",
    "def people_you_may_know(data,user_id):\n",
    "    user_friends={}\n",
    "    \n",
    "    for user in data['users']:\n",
    "        user_friends[user['id']]=list(set(user['friends']))\n",
    "    user_friends={frnds:user_friends[frnds] for frnds in user_friends if user_friends[frnds] }\n",
    "    \n",
    "    \n",
    "    if user_id not in user_friends:\n",
    "        return\n",
    "    \n",
    "    direct_friends=user_friends[user_id]\n",
    "    \n",
    "    \n",
    "    suggestions={}\n",
    "    for frnd in direct_friends:\n",
    "        for mutual in user_friends[frnd]:\n",
    "            if(mutual!=user_id and mutual not in direct_friends):\n",
    "                suggestions[mutual]=suggestions.get(mutual,0)+1\n",
    "                \n",
    "            \n",
    "    suggestions=sorted(suggestions.items(),key=lambda x:x[1],reverse=True)\n",
    "    return [x[0] for x in suggestions]\n",
    "\n",
    "data=load_file(\"massive_data.json\")\n",
    "n=int(input(\"Enter your id:\" ))\n",
    "people_you_may_know(data,n)\n"
   ]
  }
 ],
 "metadata": {
  "kernelspec": {
   "display_name": "Python 3",
   "language": "python",
   "name": "python3"
  },
  "language_info": {
   "codemirror_mode": {
    "name": "ipython",
    "version": 3
   },
   "file_extension": ".py",
   "mimetype": "text/x-python",
   "name": "python",
   "nbconvert_exporter": "python",
   "pygments_lexer": "ipython3",
   "version": "3.6.13"
  }
 },
 "nbformat": 4,
 "nbformat_minor": 5
}

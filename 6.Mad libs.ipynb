{
 "cells": [
  {
   "cell_type": "code",
   "execution_count": null,
   "id": "9183e178-8243-45f8-bc84-55052e9e4f90",
   "metadata": {},
   "outputs": [],
   "source": [
    "with open(\"Python projects/6.story.txt\") as f:\n",
    "    story=f.read()\n",
    "\n",
    "start=-1\n",
    "words=set()\n",
    "for index,char in enumerate(story):\n",
    "    if(char==\"<\"):\n",
    "        start=index\n",
    "    if(char==\">\"):\n",
    "        word=story[start:index+1]\n",
    "        words.add(word)\n",
    "\n",
    "answers={}\n",
    "\n",
    "for word in words:\n",
    "    answer=input(f\"{word}: \")\n",
    "    answers[word]=answer\n",
    "\n",
    "for word in words:\n",
    "    story=story.replace(word,answers[word])\n",
    "\n",
    "print(story)\n",
    "    "
   ]
  }
 ],
 "metadata": {
  "kernelspec": {
   "display_name": "Python 3 (ipykernel)",
   "language": "python",
   "name": "python3"
  },
  "language_info": {
   "codemirror_mode": {
    "name": "ipython",
    "version": 3
   },
   "file_extension": ".py",
   "mimetype": "text/x-python",
   "name": "python",
   "nbconvert_exporter": "python",
   "pygments_lexer": "ipython3",
   "version": "3.13.5"
  }
 },
 "nbformat": 4,
 "nbformat_minor": 5
}

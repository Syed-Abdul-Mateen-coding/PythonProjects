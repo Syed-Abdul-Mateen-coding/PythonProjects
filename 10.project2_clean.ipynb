{
 "cells": [
  {
   "cell_type": "code",
   "execution_count": 6,
   "id": "9077ad44-f7d2-4418-a9ff-3945475d4858",
   "metadata": {},
   "outputs": [
    {
     "name": "stdout",
     "output_type": "stream",
     "text": [
      "{'users': [{'id': 1, 'name': 'Amit', 'friends': [2, 3], 'liked_pages': [101]}, {'id': 2, 'name': 'Priya', 'friends': [1, 4], 'liked_pages': [102]}, {'id': 3, 'name': '', 'friends': [1], 'liked_pages': [101, 103]}, {'id': 4, 'name': 'Sara', 'friends': [2, 2], 'liked_pages': [104]}, {'id': 5, 'name': 'Amit', 'friends': [], 'liked_pages': []}], 'pages': [{'id': 101, 'name': 'Python Developers'}, {'id': 102, 'name': 'Data Science Enthusiasts'}, {'id': 103, 'name': 'AI & ML Community'}, {'id': 104, 'name': 'Web Dev Hub'}, {'id': 104, 'name': 'Web Development'}]}\n",
      "\n",
      "[{'id': 1, 'name': 'Amit', 'friends': [2, 3], 'liked_pages': [101]}, {'id': 2, 'name': 'Priya', 'friends': [1, 4], 'liked_pages': [102]}, {'id': 4, 'name': 'Sara', 'friends': [2], 'liked_pages': [104]}]\n",
      "The data has been cleaned successfully\n"
     ]
    }
   ],
   "source": [
    "import json\n",
    "\n",
    "def clean_data(data):\n",
    "    #removing users with missing name\n",
    "    data['users']=[user for user in data['users'] if user['name'].strip()]\n",
    "    \n",
    "    #removing duplicate friends\n",
    "    for user in data[\"users\"]:\n",
    "        user['friends']=list(set(user['friends']))\n",
    "        \n",
    "    #removing inactive users\n",
    "    data['users']=[user for user in data['users'] if user['friends'] or user['liked_pages']]\n",
    "    \n",
    "    #removing pages with duplicate id (i.e removing either 1st or 2nd id number:104)\n",
    "    unique_pages={}\n",
    "    for page in data['pages']:\n",
    "        unique_pages[page['id']]=page\n",
    "    data['pages']=list(unique_pages.values())\n",
    "    \n",
    "    return data\n",
    "    \n",
    "\n",
    "data=json.load(open(\"data2.json\",\"r\"))\n",
    "print(data)\n",
    "print()\n",
    "data=clean_data(data)\n",
    "print(data[\"users\"])\n",
    "json.dump(data,open(\"cleaned_data.json\",\"w\"),indent=4)\n",
    "print(\"The data has been cleaned successfully\")"
   ]
  },
  {
   "cell_type": "code",
   "execution_count": 24,
   "id": "bd0d3950-b8b3-4d10-b357-c96f69f8769d",
   "metadata": {},
   "outputs": [
    {
     "name": "stdout",
     "output_type": "stream",
     "text": [
      "The data has sucsessfully cleaned!\n"
     ]
    }
   ],
   "source": [
    "#Revisit (Practice)\n",
    "def clean(data):\n",
    "    data['users']=[user for user in data['users'] if user['name'].strip()]\n",
    "    \n",
    "    for user in data['users']:\n",
    "        user['friends']=list(set(user['friends']))\n",
    "        \n",
    "    data['users']=[user for user in data['users'] if user['friends'] or user['liked_pages']]\n",
    "    \n",
    "    \n",
    "    unique_pages=[]\n",
    "    for page in data['pages']:\n",
    "        unique_pages.append(page['id'])\n",
    "        \n",
    "    \n",
    "    unique_pages={}\n",
    "    for page in data['pages']:\n",
    "        unique_pages[page['id']]=page\n",
    "    data['pages']=list(unique_pages.values())\n",
    "    \n",
    "    return data\n",
    "    \n",
    "    \n",
    "data=json.load(open(\"data2.json\",\"r\"))\n",
    "clean(data)\n",
    "json.dump(data,open(\"cleaned_data.json\",\"w\"),indent=4)\n",
    "print(\"The data has sucsessfully cleaned!\")\n"
   ]
  },
  {
   "cell_type": "code",
   "execution_count": 10,
   "id": "285923e6-059b-4615-9276-89fd2df0889c",
   "metadata": {},
   "outputs": [
    {
     "name": "stdout",
     "output_type": "stream",
     "text": [
      "True\n"
     ]
    }
   ],
   "source": []
  }
 ],
 "metadata": {
  "kernelspec": {
   "display_name": "Python 3",
   "language": "python",
   "name": "python3"
  },
  "language_info": {
   "codemirror_mode": {
    "name": "ipython",
    "version": 3
   },
   "file_extension": ".py",
   "mimetype": "text/x-python",
   "name": "python",
   "nbconvert_exporter": "python",
   "pygments_lexer": "ipython3",
   "version": "3.6.13"
  }
 },
 "nbformat": 4,
 "nbformat_minor": 5
}
